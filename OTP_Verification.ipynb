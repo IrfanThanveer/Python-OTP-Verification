{
 "cells": [
  {
   "cell_type": "code",
   "execution_count": 2,
   "id": "0d2740e7",
   "metadata": {
    "collapsed": true
   },
   "outputs": [
    {
     "name": "stdout",
     "output_type": "stream",
     "text": [
      "Requirement already satisfied: gradio in c:\\users\\irfan\\anaconda3\\lib\\site-packages (4.37.1)\n",
      "Requirement already satisfied: huggingface-hub>=0.19.3 in c:\\users\\irfan\\anaconda3\\lib\\site-packages (from gradio) (0.23.4)\n",
      "Requirement already satisfied: ffmpy in c:\\users\\irfan\\anaconda3\\lib\\site-packages (from gradio) (0.3.2)\n",
      "Requirement already satisfied: typing-extensions~=4.0 in c:\\users\\irfan\\anaconda3\\lib\\site-packages (from gradio) (4.12.2)\n",
      "Requirement already satisfied: markupsafe~=2.0 in c:\\users\\irfan\\anaconda3\\lib\\site-packages (from gradio) (2.1.1)\n",
      "Requirement already satisfied: pyyaml<7.0,>=5.0 in c:\\users\\irfan\\anaconda3\\lib\\site-packages (from gradio) (6.0.1)\n",
      "Requirement already satisfied: altair<6.0,>=4.2.0 in c:\\users\\irfan\\anaconda3\\lib\\site-packages (from gradio) (5.3.0)\n",
      "Requirement already satisfied: importlib-resources<7.0,>=1.3 in c:\\users\\irfan\\anaconda3\\lib\\site-packages (from gradio) (5.9.0)\n",
      "Requirement already satisfied: tomlkit==0.12.0 in c:\\users\\irfan\\anaconda3\\lib\\site-packages (from gradio) (0.12.0)\n",
      "Requirement already satisfied: orjson~=3.0 in c:\\users\\irfan\\anaconda3\\lib\\site-packages (from gradio) (3.10.5)\n",
      "Requirement already satisfied: fastapi in c:\\users\\irfan\\anaconda3\\lib\\site-packages (from gradio) (0.111.0)\n",
      "Requirement already satisfied: numpy<3.0,>=1.0 in c:\\users\\irfan\\anaconda3\\lib\\site-packages (from gradio) (1.26.4)\n",
      "Requirement already satisfied: uvicorn>=0.14.0 in c:\\users\\irfan\\anaconda3\\lib\\site-packages (from gradio) (0.30.1)\n",
      "Requirement already satisfied: semantic-version~=2.0 in c:\\users\\irfan\\anaconda3\\lib\\site-packages (from gradio) (2.10.0)\n",
      "Requirement already satisfied: urllib3~=2.0 in c:\\users\\irfan\\anaconda3\\lib\\site-packages (from gradio) (2.2.2)\n",
      "Requirement already satisfied: jinja2<4.0 in c:\\users\\irfan\\anaconda3\\lib\\site-packages (from gradio) (3.1.2)\n",
      "Requirement already satisfied: ruff>=0.2.2 in c:\\users\\irfan\\anaconda3\\lib\\site-packages (from gradio) (0.4.10)\n",
      "Requirement already satisfied: typer<1.0,>=0.12 in c:\\users\\irfan\\anaconda3\\lib\\site-packages (from gradio) (0.12.3)\n",
      "Requirement already satisfied: pydantic>=2.0 in c:\\users\\irfan\\anaconda3\\lib\\site-packages (from gradio) (2.7.4)\n",
      "Requirement already satisfied: gradio-client==1.0.2 in c:\\users\\irfan\\anaconda3\\lib\\site-packages (from gradio) (1.0.2)\n",
      "Requirement already satisfied: pydub in c:\\users\\irfan\\anaconda3\\lib\\site-packages (from gradio) (0.25.1)\n",
      "Requirement already satisfied: pandas<3.0,>=1.0 in c:\\users\\irfan\\anaconda3\\lib\\site-packages (from gradio) (1.4.2)\n",
      "Requirement already satisfied: python-multipart>=0.0.9 in c:\\users\\irfan\\anaconda3\\lib\\site-packages (from gradio) (0.0.9)\n",
      "Requirement already satisfied: pillow<11.0,>=8.0 in c:\\users\\irfan\\anaconda3\\lib\\site-packages (from gradio) (9.0.1)\n",
      "Requirement already satisfied: httpx>=0.24.1 in c:\\users\\irfan\\anaconda3\\lib\\site-packages (from gradio) (0.27.0)\n",
      "Requirement already satisfied: matplotlib~=3.0 in c:\\users\\irfan\\anaconda3\\lib\\site-packages (from gradio) (3.5.1)\n",
      "Requirement already satisfied: aiofiles<24.0,>=22.0 in c:\\users\\irfan\\anaconda3\\lib\\site-packages (from gradio) (23.2.1)\n",
      "Requirement already satisfied: packaging in c:\\users\\irfan\\anaconda3\\lib\\site-packages (from gradio) (21.3)\n",
      "Requirement already satisfied: websockets<12.0,>=10.0 in c:\\users\\irfan\\anaconda3\\lib\\site-packages (from gradio-client==1.0.2->gradio) (10.4)\n",
      "Requirement already satisfied: fsspec in c:\\users\\irfan\\anaconda3\\lib\\site-packages (from gradio-client==1.0.2->gradio) (2024.6.0)\n",
      "Requirement already satisfied: jsonschema>=3.0 in c:\\users\\irfan\\anaconda3\\lib\\site-packages (from altair<6.0,>=4.2.0->gradio) (4.4.0)\n",
      "Requirement already satisfied: toolz in c:\\users\\irfan\\anaconda3\\lib\\site-packages (from altair<6.0,>=4.2.0->gradio) (0.11.2)\n",
      "Requirement already satisfied: sniffio in c:\\users\\irfan\\anaconda3\\lib\\site-packages (from httpx>=0.24.1->gradio) (1.2.0)\n",
      "Requirement already satisfied: idna in c:\\users\\irfan\\anaconda3\\lib\\site-packages (from httpx>=0.24.1->gradio) (3.3)\n",
      "Requirement already satisfied: anyio in c:\\users\\irfan\\anaconda3\\lib\\site-packages (from httpx>=0.24.1->gradio) (3.5.0)\n",
      "Requirement already satisfied: certifi in c:\\users\\irfan\\anaconda3\\lib\\site-packages (from httpx>=0.24.1->gradio) (2024.2.2)\n",
      "Requirement already satisfied: httpcore==1.* in c:\\users\\irfan\\anaconda3\\lib\\site-packages (from httpx>=0.24.1->gradio) (1.0.5)\n",
      "Requirement already satisfied: h11<0.15,>=0.13 in c:\\users\\irfan\\anaconda3\\lib\\site-packages (from httpcore==1.*->httpx>=0.24.1->gradio) (0.14.0)\n",
      "Requirement already satisfied: requests in c:\\users\\irfan\\anaconda3\\lib\\site-packages (from huggingface-hub>=0.19.3->gradio) (2.32.3)\n",
      "Requirement already satisfied: filelock in c:\\users\\irfan\\anaconda3\\lib\\site-packages (from huggingface-hub>=0.19.3->gradio) (3.6.0)\n",
      "Requirement already satisfied: tqdm>=4.42.1 in c:\\users\\irfan\\anaconda3\\lib\\site-packages (from huggingface-hub>=0.19.3->gradio) (4.64.0)\n",
      "Requirement already satisfied: zipp>=3.1.0 in c:\\users\\irfan\\anaconda3\\lib\\site-packages (from importlib-resources<7.0,>=1.3->gradio) (3.7.0)\n",
      "Requirement already satisfied: attrs>=17.4.0 in c:\\users\\irfan\\anaconda3\\lib\\site-packages (from jsonschema>=3.0->altair<6.0,>=4.2.0->gradio) (21.4.0)\n",
      "Requirement already satisfied: pyrsistent!=0.17.0,!=0.17.1,!=0.17.2,>=0.14.0 in c:\\users\\irfan\\anaconda3\\lib\\site-packages (from jsonschema>=3.0->altair<6.0,>=4.2.0->gradio) (0.18.0)\n",
      "Requirement already satisfied: kiwisolver>=1.0.1 in c:\\users\\irfan\\anaconda3\\lib\\site-packages (from matplotlib~=3.0->gradio) (1.3.2)\n",
      "Requirement already satisfied: pyparsing>=2.2.1 in c:\\users\\irfan\\anaconda3\\lib\\site-packages (from matplotlib~=3.0->gradio) (3.0.4)\n",
      "Requirement already satisfied: fonttools>=4.22.0 in c:\\users\\irfan\\anaconda3\\lib\\site-packages (from matplotlib~=3.0->gradio) (4.25.0)\n",
      "Requirement already satisfied: cycler>=0.10 in c:\\users\\irfan\\anaconda3\\lib\\site-packages (from matplotlib~=3.0->gradio) (0.11.0)\n",
      "Requirement already satisfied: python-dateutil>=2.7 in c:\\users\\irfan\\anaconda3\\lib\\site-packages (from matplotlib~=3.0->gradio) (2.8.2)\n",
      "Requirement already satisfied: pytz>=2020.1 in c:\\users\\irfan\\anaconda3\\lib\\site-packages (from pandas<3.0,>=1.0->gradio) (2021.3)\n",
      "Requirement already satisfied: annotated-types>=0.4.0 in c:\\users\\irfan\\anaconda3\\lib\\site-packages (from pydantic>=2.0->gradio) (0.7.0)\n",
      "Requirement already satisfied: pydantic-core==2.18.4 in c:\\users\\irfan\\anaconda3\\lib\\site-packages (from pydantic>=2.0->gradio) (2.18.4)\n",
      "Requirement already satisfied: six>=1.5 in c:\\users\\irfan\\anaconda3\\lib\\site-packages (from python-dateutil>=2.7->matplotlib~=3.0->gradio) (1.16.0)\n",
      "Requirement already satisfied: colorama in c:\\users\\irfan\\anaconda3\\lib\\site-packages (from tqdm>=4.42.1->huggingface-hub>=0.19.3->gradio) (0.4.4)\n",
      "Requirement already satisfied: rich>=10.11.0 in c:\\users\\irfan\\anaconda3\\lib\\site-packages (from typer<1.0,>=0.12->gradio) (13.7.1)\n",
      "Requirement already satisfied: shellingham>=1.3.0 in c:\\users\\irfan\\anaconda3\\lib\\site-packages (from typer<1.0,>=0.12->gradio) (1.5.4)\n",
      "Requirement already satisfied: click>=8.0.0 in c:\\users\\irfan\\anaconda3\\lib\\site-packages (from typer<1.0,>=0.12->gradio) (8.0.4)\n",
      "Requirement already satisfied: markdown-it-py>=2.2.0 in c:\\users\\irfan\\anaconda3\\lib\\site-packages (from rich>=10.11.0->typer<1.0,>=0.12->gradio) (3.0.0)\n",
      "Requirement already satisfied: pygments<3.0.0,>=2.13.0 in c:\\users\\irfan\\anaconda3\\lib\\site-packages (from rich>=10.11.0->typer<1.0,>=0.12->gradio) (2.18.0)\n",
      "Requirement already satisfied: mdurl~=0.1 in c:\\users\\irfan\\anaconda3\\lib\\site-packages (from markdown-it-py>=2.2.0->rich>=10.11.0->typer<1.0,>=0.12->gradio) (0.1.2)\n",
      "Requirement already satisfied: starlette<0.38.0,>=0.37.2 in c:\\users\\irfan\\anaconda3\\lib\\site-packages (from fastapi->gradio) (0.37.2)\n",
      "Requirement already satisfied: fastapi-cli>=0.0.2 in c:\\users\\irfan\\anaconda3\\lib\\site-packages (from fastapi->gradio) (0.0.4)\n",
      "Requirement already satisfied: ujson!=4.0.2,!=4.1.0,!=4.2.0,!=4.3.0,!=5.0.0,!=5.1.0,>=4.0.1 in c:\\users\\irfan\\anaconda3\\lib\\site-packages (from fastapi->gradio) (5.10.0)\n",
      "Requirement already satisfied: email_validator>=2.0.0 in c:\\users\\irfan\\anaconda3\\lib\\site-packages (from fastapi->gradio) (2.2.0)\n",
      "Requirement already satisfied: dnspython>=2.0.0 in c:\\users\\irfan\\anaconda3\\lib\\site-packages (from email_validator>=2.0.0->fastapi->gradio) (2.6.1)\n",
      "Requirement already satisfied: httptools>=0.5.0 in c:\\users\\irfan\\anaconda3\\lib\\site-packages (from uvicorn>=0.14.0->gradio) (0.6.1)\n",
      "Requirement already satisfied: watchfiles>=0.13 in c:\\users\\irfan\\anaconda3\\lib\\site-packages (from uvicorn>=0.14.0->gradio) (0.22.0)\n",
      "Requirement already satisfied: python-dotenv>=0.13 in c:\\users\\irfan\\anaconda3\\lib\\site-packages (from uvicorn>=0.14.0->gradio) (1.0.0)\n",
      "Requirement already satisfied: charset-normalizer<4,>=2 in c:\\users\\irfan\\anaconda3\\lib\\site-packages (from requests->huggingface-hub>=0.19.3->gradio) (2.0.4)\n",
      "Note: you may need to restart the kernel to use updated packages.\n"
     ]
    }
   ],
   "source": [
    "pip install gradio\n"
   ]
  },
  {
   "cell_type": "code",
   "execution_count": 3,
   "id": "f93d9284",
   "metadata": {},
   "outputs": [
    {
     "name": "stdout",
     "output_type": "stream",
     "text": [
      "Requirement already satisfied: python-dotenv in c:\\users\\irfan\\anaconda3\\lib\\site-packages (1.0.0)\n",
      "Note: you may need to restart the kernel to use updated packages.\n"
     ]
    }
   ],
   "source": [
    "pip install python-dotenv"
   ]
  },
  {
   "cell_type": "code",
   "execution_count": 1,
   "id": "664c8bab",
   "metadata": {},
   "outputs": [],
   "source": [
    "import random\n",
    "import smtplib\n",
    "import gradio as gr\n",
    "from email.mime.text import MIMEText\n",
    "from email.mime.multipart import MIMEMultipart\n",
    "from dotenv import load_dotenv\n",
    "import os"
   ]
  },
  {
   "cell_type": "code",
   "execution_count": 2,
   "id": "31560364",
   "metadata": {
    "scrolled": true
   },
   "outputs": [
    {
     "data": {
      "text/plain": [
       "True"
      ]
     },
     "execution_count": 2,
     "metadata": {},
     "output_type": "execute_result"
    }
   ],
   "source": [
    "load_dotenv()"
   ]
  },
  {
   "cell_type": "code",
   "execution_count": 3,
   "id": "82157871",
   "metadata": {},
   "outputs": [
    {
     "name": "stdout",
     "output_type": "stream",
     "text": [
      "Running on local URL:  http://127.0.0.1:7860\n",
      "\n",
      "To create a public link, set `share=True` in `launch()`.\n"
     ]
    },
    {
     "data": {
      "text/html": [
       "<div><iframe src=\"http://127.0.0.1:7860/\" width=\"100%\" height=\"500\" allow=\"autoplay; camera; microphone; clipboard-read; clipboard-write;\" frameborder=\"0\" allowfullscreen></iframe></div>"
      ],
      "text/plain": [
       "<IPython.core.display.HTML object>"
      ]
     },
     "metadata": {},
     "output_type": "display_data"
    },
    {
     "data": {
      "text/plain": []
     },
     "execution_count": 3,
     "metadata": {},
     "output_type": "execute_result"
    }
   ],
   "source": [
    "class OTPVerification:\n",
    "    def __init__(self):\n",
    "        self.otp = None\n",
    "        self.email = os.getenv(\"EMAIL_ADDRESS\")\n",
    "        self.password = os.getenv(\"EMAIL_PASSWORD\")\n",
    "        # print(self.email)\n",
    "        # print(self.password)\n",
    "    def generate_otp(self):\n",
    "        self.otp = str(random.randint(100000, 999999))\n",
    "        # print(f\"Generated OTP is: {self.otp}\")  \n",
    "\n",
    "    def send_otp(self, user_email):\n",
    "        self.generate_otp()\n",
    "        subject = \"Your OTP\"\n",
    "        body = f\"Your OTP is {self.otp}. Enter this code in the GUI.\"\n",
    "\n",
    "        msg = MIMEMultipart()\n",
    "        msg['From'] = self.email\n",
    "        msg['To'] = user_email\n",
    "        msg['Subject'] = subject\n",
    "\n",
    "        msg.attach(MIMEText(body))\n",
    "\n",
    "        try:\n",
    "            server = smtplib.SMTP('smtp.gmail.com', 587)\n",
    "            server.starttls()\n",
    "            server.login(self.email, self.password)\n",
    "            text = msg.as_string()\n",
    "            server.sendmail(self.email, user_email, text)\n",
    "            server.quit()\n",
    "            return \"OTP SENT successfully!\"\n",
    "        except Exception as e:\n",
    "            return f\"Failed to send OTP: {str(e)}\"\n",
    "\n",
    "    def verify_otp(self, user_input_otp):\n",
    "        if user_input_otp == self.otp:\n",
    "            return \"OTP Verified!\"\n",
    "        else:\n",
    "            return \"Invalid OTP. Try again.\"\n",
    "\n",
    "otp_system = OTPVerification()\n",
    "\n",
    "def send_otp_email(user_email):\n",
    "    return otp_system.send_otp(user_email)\n",
    "\n",
    "def validate_otp(user_input_otp):\n",
    "    return otp_system.verify_otp(user_input_otp)\n",
    "\n",
    "with gr.Blocks() as demo:\n",
    "    email_input = gr.Textbox(label=\"Enter your email address\")\n",
    "    send_button = gr.Button(\"Send OTP\")\n",
    "    send_result = gr.Textbox(label=\"Status\")\n",
    "\n",
    "    otp_input = gr.Textbox(label=\"Enter OTP\")\n",
    "    verify_button = gr.Button(\"Verify OTP\")\n",
    "    verify_result = gr.Textbox(label=\"Verification Result\")\n",
    "\n",
    "    send_button.click(send_otp_email, inputs=email_input, outputs=send_result)\n",
    "    verify_button.click(validate_otp, inputs=otp_input, outputs=verify_result)\n",
    "\n",
    "demo.launch()\n"
   ]
  },
  {
   "cell_type": "code",
   "execution_count": null,
   "id": "01d4faf3",
   "metadata": {},
   "outputs": [],
   "source": []
  }
 ],
 "metadata": {
  "kernelspec": {
   "display_name": "Python 3 (ipykernel)",
   "language": "python",
   "name": "python3"
  },
  "language_info": {
   "codemirror_mode": {
    "name": "ipython",
    "version": 3
   },
   "file_extension": ".py",
   "mimetype": "text/x-python",
   "name": "python",
   "nbconvert_exporter": "python",
   "pygments_lexer": "ipython3",
   "version": "3.9.12"
  }
 },
 "nbformat": 4,
 "nbformat_minor": 5
}
